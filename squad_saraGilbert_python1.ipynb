{
 "cells": [
  {
   "cell_type": "code",
   "execution_count": null,
   "metadata": {},
   "outputs": [],
   "source": [
    "#Desafio 1\n",
    "#3. Faça um Programa que peça a quantidade de quilômetros, transforme\n",
    "#em metros, centímetros e milímetros.\n",
    "qtd= float(input(\"Digite a quantidade:\"))\n",
    "qtd_m =qtd*1000\n",
    "qtd_cm =qtd * 1000 *100\n",
    "qtd_mm =qtd * 1000 *1000\n",
    "print(\"O valor em metros e:\",qtd_m)"
   ]
  },
  {
   "cell_type": "code",
   "execution_count": null,
   "metadata": {},
   "outputs": [],
   "source": [
    "#3. Faça um programa que peça uma nota, entre zero e dez. Mostre uma\n",
    "#mensagem caso o valor seja inválido e continue pedindo até que o usuário\n",
    "#informe um valor válido.\n",
    "n1= int(input(\"Digite uma nota\"))\n",
    "while(n1 >=11):\n",
    " n1= int(input(\"Digite uma nota\"))\n",
    " if(n1>=11) :\n",
    "  print(\"Opvao Invalida\")"
   ]
  },
  {
   "cell_type": "code",
   "execution_count": null,
   "metadata": {},
   "outputs": [],
   "source": [
    "#3.Crie um dicionário representando um carrinho de compras.\n",
    "#Adicione produtos (chaves) e quantidades (valores) ao carrinho.\n",
    "#Calcule o total do carrinho de compra.\n",
    "carrinho = {}\n",
    "\n",
    "while True:\n",
    "    produto = input(\"Digite o produto: \")\n",
    "    valor = float(input(\"Digite o valor: \").replace(\",\", \".\"))\n",
    "\n",
    "    if produto in carrinho:\n",
    "        carrinho[produto] += valor\n",
    "    else:\n",
    "       carrinho[produto] = valor\n",
    "\n",
    "    add_produtos = input(\"Mais Peodutos? (S/N): \").upper()\n",
    "    if add_produtos == 'N':\n",
    "        break\n",
    "\n",
    "print(\"\\nCarrinho de compras:\")\n",
    "for produto, valor in carrinho.items():\n",
    "    print(f\"- {produto}: R$ {valor:.2f}\")\n",
    "\n",
    "print(f\"\\nValor total: R$ {sum(carrinho.values()):.2f}\")    \n"
   ]
  },
  {
   "cell_type": "code",
   "execution_count": null,
   "metadata": {},
   "outputs": [],
   "source": [
    "#3. Escreva um script que pergunta ao usuário se ele deseja converter\n",
    "#uma temperatura de grau Celsius para Fahrenheit ou vice-versa. Para\n",
    "#cada opção, crie uma função.\n",
    "def temperatura_cel_tp_fah(celsius):\n",
    "     fahrenheit = (celsius * 9/5) + 32\n",
    "     return fahrenheit\n",
    "temperatura_cel= float(input(\"Temperatura em celsius\"))\n",
    "temperatura_fah= temperatura_cel_tp_fah(temperatura_cel)\n",
    "temperatura_cel_tp_fah(temperatura_cel)\n",
    "\n",
    "def temperatura(fahrenheit):\n",
    "    celsius =(fahrenheit - 32) * 5/9\n",
    "    return celsius\n",
    "temperatura_fahei= float(input(\"Temperatura em fahrenheit\"))\n",
    "temperatura_cel= temperatura(temperatura_fahei)\n",
    "temperatura(temperatura_fahei)\n"
   ]
  },
  {
   "cell_type": "code",
   "execution_count": null,
   "metadata": {},
   "outputs": [],
   "source": [
    "#Extra: Crie uma terceira, que é um menu para o usuário escolher a\n",
    "#opção desejada, onde esse menu chama a função de conversão\n",
    "#correta\n",
    "def menu () :\n",
    "    print(\"-\",*20)\n",
    "def opcao_temperatura():\n",
    "    menu()\n",
    "escolha=str(input(\"Digite C para celsius e F para  fahrenheit \").upper()) \n",
    "if escolha == \"C\":\n",
    "    def temperatura(fahrenheit):\n",
    "     celsius =(fahrenheit - 32) * 5/9\n",
    "     return celsius\n",
    "    temperatura_fahei= float(input(\"Temperatura em fahrenheit\"))\n",
    "    temperatura_cel= temperatura(temperatura_fahei)\n",
    "    print(f\"A temperatura em celsius e \", temperatura(temperatura_fahei))\n",
    "   \n",
    "elif escolha == \"F\"  :\n",
    "    \n",
    "    def temperatura_cel_tp_fah(celsius):\n",
    "         fahrenheit = (celsius * 9/5) + 32\n",
    "         return fahrenheit\n",
    "    temperatura_cel= float(input(\"Temperatura em celsius\"))\n",
    "    temperatura_fah= temperatura_cel_tp_fah(temperatura_cel)\n",
    "    print(f\"A temperatura em fahrenheit e \" ,temperatura_cel_tp_fah(temperatura_cel))\n",
    "else :\n",
    "    print(\"Opcao Incalida\")    \n"
   ]
  }
 ],
 "metadata": {
  "language_info": {
   "name": "python"
  }
 },
 "nbformat": 4,
 "nbformat_minor": 2
}
